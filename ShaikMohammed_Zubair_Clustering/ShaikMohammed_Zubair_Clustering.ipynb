{
 "cells": [
  {
   "cell_type": "code",
   "execution_count": 7,
   "id": "1c8b5ad6-9e6b-4b8c-a24f-7634358960cb",
   "metadata": {},
   "outputs": [
    {
     "name": "stdout",
     "output_type": "stream",
     "text": [
      "Index(['TransactionID', 'CustomerID', 'ProductID', 'TransactionDate',\n",
      "       'Quantity', 'TotalValue', 'Price_x', 'Price_y', 'Category'],\n",
      "      dtype='object')\n",
      "Davies-Bouldin Index: 1.1218019122669298\n"
     ]
    },
    {
     "name": "stderr",
     "output_type": "stream",
     "text": [
      "C:\\Users\\amaan\\anaconda3\\Lib\\site-packages\\sklearn\\cluster\\_kmeans.py:1429: UserWarning: KMeans is known to have a memory leak on Windows with MKL, when there are less chunks than available threads. You can avoid it by setting the environment variable OMP_NUM_THREADS=1.\n",
      "  warnings.warn(\n"
     ]
    }
   ],
   "source": [
    "# Merge transactions with product details including 'Category' column\n",
    "df = pd.merge(transactions, products[['ProductID', 'Price', 'Category']], on='ProductID', how='left')\n",
    "\n",
    "# Check the column names to confirm 'Category' is included\n",
    "print(df.columns)\n",
    "\n",
    "# Use 'Price_x' if it exists, otherwise 'Price_y'\n",
    "df['Price'] = df['Price_x'].fillna(df['Price_y'])\n",
    "\n",
    "# Step 1: Aggregate customer features\n",
    "customer_features = df.groupby(\"CustomerID\").agg(\n",
    "    Total_Spending=(\"TotalValue\", \"sum\"),\n",
    "    Total_Quantity=(\"Quantity\", \"sum\"),\n",
    "    Avg_Price=(\"Price\", \"mean\"),\n",
    "    Favorite_Category=(\"Category\", lambda x: x.mode()[0] if not x.mode().empty else \"Unknown\")\n",
    ").reset_index()\n",
    "\n",
    "# Step 2: Scale the customer features\n",
    "scaler = StandardScaler()\n",
    "customer_scaled = scaler.fit_transform(customer_features[[\"Total_Spending\", \"Total_Quantity\", \"Avg_Price\"]])  # Scale the relevant columns\n",
    "\n",
    "# Step 3: Apply KMeans clustering\n",
    "kmeans = KMeans(n_clusters=4, random_state=42)\n",
    "customer_features[\"Cluster\"] = kmeans.fit_predict(customer_scaled)\n",
    "\n",
    "# Step 4: Compute Davies-Bouldin Index for cluster evaluation\n",
    "db_index = davies_bouldin_score(customer_scaled, customer_features[\"Cluster\"])\n",
    "\n",
    "# Print the results\n",
    "print(f\"Davies-Bouldin Index: {db_index}\")\n"
   ]
  },
  {
   "cell_type": "code",
   "execution_count": null,
   "id": "1ce6882a-36c5-42cb-be8f-e2c357597aaa",
   "metadata": {},
   "outputs": [],
   "source": []
  }
 ],
 "metadata": {
  "kernelspec": {
   "display_name": "Python 3 (ipykernel)",
   "language": "python",
   "name": "python3"
  },
  "language_info": {
   "codemirror_mode": {
    "name": "ipython",
    "version": 3
   },
   "file_extension": ".py",
   "mimetype": "text/x-python",
   "name": "python",
   "nbconvert_exporter": "python",
   "pygments_lexer": "ipython3",
   "version": "3.12.3"
  }
 },
 "nbformat": 4,
 "nbformat_minor": 5
}
